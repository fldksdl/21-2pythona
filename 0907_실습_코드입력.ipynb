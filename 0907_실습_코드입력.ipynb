{
  "nbformat": 4,
  "nbformat_minor": 0,
  "metadata": {
    "colab": {
      "name": "0907 실습 코드입력.ipynb",
      "provenance": [],
      "authorship_tag": "ABX9TyNEguamXzxLIeF38TBYqllq",
      "include_colab_link": true
    },
    "kernelspec": {
      "name": "python3",
      "display_name": "Python 3"
    },
    "language_info": {
      "name": "python"
    }
  },
  "cells": [
    {
      "cell_type": "markdown",
      "metadata": {
        "id": "view-in-github",
        "colab_type": "text"
      },
      "source": [
        "<a href=\"https://colab.research.google.com/github/timeboox/21-2pythona/blob/main/0907_%EC%8B%A4%EC%8A%B5_%EC%BD%94%EB%93%9C%EC%9E%85%EB%A0%A5.ipynb\" target=\"_parent\"><img src=\"https://colab.research.google.com/assets/colab-badge.svg\" alt=\"Open In Colab\"/></a>"
      ]
    },
    {
      "cell_type": "code",
      "metadata": {
        "id": "H09zxUBTc90k",
        "colab": {
          "base_uri": "https://localhost:8080/"
        },
        "outputId": "3d97b04d-7337-451f-d591-615b01374e01"
      },
      "source": [
        "# 두 줄에 걸쳐 \"강한친구 대한육군\"을 한 줄에 한 번씩 출력한다.\n",
        "\n",
        "print(\"강한친구 대한육군\")\n",
        "print(\"강한친구 대한육군\")"
      ],
      "execution_count": null,
      "outputs": [
        {
          "output_type": "stream",
          "name": "stdout",
          "text": [
            "강한친구 대한육군\n",
            "강한친구 대한육군\n"
          ]
        }
      ]
    },
    {
      "cell_type": "code",
      "metadata": {
        "id": "pTnjK6aYfkiC",
        "colab": {
          "base_uri": "https://localhost:8080/"
        },
        "outputId": "e986a7a8-506e-46b8-c256-a8d7409b211d"
      },
      "source": [
        "# 두 정수 A와 B를 입력받은 다음, A-B를 출력하는 프로그램을 작성하시오.\n",
        "\n",
        "a, b = input().split()\n",
        "\n",
        "a = int(a)\n",
        "b = int(b)\n",
        "\n",
        "print(a+b)\n",
        "print(a-b)\n",
        "print(a*b)\n",
        "print(a//b)\n",
        "print(a%b)"
      ],
      "execution_count": null,
      "outputs": [
        {
          "output_type": "stream",
          "name": "stdout",
          "text": [
            "7 3\n",
            "10\n",
            "4\n",
            "21\n",
            "2\n",
            "1\n"
          ]
        }
      ]
    },
    {
      "cell_type": "code",
      "metadata": {
        "id": "9Oh7Z8iIh9Vb",
        "colab": {
          "base_uri": "https://localhost:8080/"
        },
        "outputId": "8014c52a-2d70-477f-c153-384c83abbb29"
      },
      "source": [
        "score = input()\n",
        "score = int(score)\n",
        "\n",
        "if score>=90 :\n",
        "  print(\"A\")\n",
        "elif score>=80 :\n",
        "  print(\"B\")\n",
        "elif score>=70 :\n",
        "  print(\"C\")\n",
        "elif score>=60 :\n",
        "  print(\"D\")\n",
        "else :\n",
        "  print(\"F\")"
      ],
      "execution_count": 33,
      "outputs": [
        {
          "output_type": "stream",
          "name": "stdout",
          "text": [
            "5\n",
            "F\n"
          ]
        }
      ]
    },
    {
      "cell_type": "code",
      "metadata": {
        "colab": {
          "base_uri": "https://localhost:8080/"
        },
        "id": "YASKpb-77q6i",
        "outputId": "b3234372-3966-4bc7-861c-707a0732eded"
      },
      "source": [
        "t = int(input())\n",
        "\n",
        "for i in range(t):\n",
        "  a,b = input().split()\n",
        "  a = int(a)\n",
        "  b = int(b)\n",
        "  print(a+b)"
      ],
      "execution_count": 36,
      "outputs": [
        {
          "output_type": "stream",
          "name": "stdout",
          "text": [
            "3\n",
            "3 5\n",
            "8\n",
            "2 4\n",
            "6\n",
            "3 3\n",
            "6\n"
          ]
        }
      ]
    },
    {
      "cell_type": "code",
      "metadata": {
        "id": "oLKwLkdVBCbT"
      },
      "source": [
        ""
      ],
      "execution_count": null,
      "outputs": []
    }
  ]
}