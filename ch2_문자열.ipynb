{
  "nbformat": 4,
  "nbformat_minor": 0,
  "metadata": {
    "colab": {
      "name": "Untitled1.ipynb",
      "provenance": [],
      "authorship_tag": "ABX9TyNW6VfIRffaZT86LYiVtjjV",
      "include_colab_link": true
    },
    "kernelspec": {
      "name": "python3",
      "display_name": "Python 3"
    },
    "language_info": {
      "name": "python"
    }
  },
  "cells": [
    {
      "cell_type": "markdown",
      "metadata": {
        "id": "view-in-github",
        "colab_type": "text"
      },
      "source": [
        "<a href=\"https://colab.research.google.com/github/timeboox/21-2pythona/blob/main/ch2_%EB%AC%B8%EC%9E%90%EC%97%B4.ipynb\" target=\"_parent\"><img src=\"https://colab.research.google.com/assets/colab-badge.svg\" alt=\"Open In Colab\"/></a>"
      ]
    },
    {
      "cell_type": "code",
      "metadata": {
        "id": "U428lUuUEDD9"
      },
      "source": [
        ""
      ],
      "execution_count": null,
      "outputs": []
    },
    {
      "cell_type": "markdown",
      "metadata": {
        "id": "mY62--QtEPPs"
      },
      "source": [
        "##**학습목표**\n",
        "\n",
        "문자열(str)타입을 이해하기"
      ]
    },
    {
      "cell_type": "code",
      "metadata": {
        "id": "TN0z5VxiEr5p"
      },
      "source": [
        ""
      ],
      "execution_count": null,
      "outputs": []
    },
    {
      "cell_type": "markdown",
      "metadata": {
        "id": "y6u_sX8tEsQC"
      },
      "source": [
        "##**문자열(String)**\n",
        "- 여러 개의 문자를 순서대로 나열한 것\n",
        "- 문자열은 '(작은 따옴표)' 혹은 \"(큰 따옴표)\" 사이에 문자를 넣어서 생성\n",
        "- 문자열 자체에 \",'가 있는 경우, "
      ]
    },
    {
      "cell_type": "code",
      "metadata": {
        "colab": {
          "base_uri": "https://localhost:8080/"
        },
        "id": "nkqEoVK4E5vh",
        "outputId": "dfad7c6c-c5e7-49f0-c929-6acdf38156a3"
      },
      "source": [
        "a = \"Hello world\"\n",
        "b = ' \"Hello\" world! '\n",
        "\n",
        "print(a)\n",
        "print(b)\n"
      ],
      "execution_count": 2,
      "outputs": [
        {
          "output_type": "stream",
          "text": [
            "Hello world\n",
            " \"Hello\" world! \n"
          ],
          "name": "stdout"
        }
      ]
    },
    {
      "cell_type": "code",
      "metadata": {
        "id": "zmkZaTjyE_Lq"
      },
      "source": [
        ""
      ],
      "execution_count": null,
      "outputs": []
    },
    {
      "cell_type": "markdown",
      "metadata": {
        "id": "nvrur4LNF9XE"
      },
      "source": [
        "###**이스케이프(escape) 문자**\n",
        "\n",
        "- 문자열 내의 문자의 의미를 달리하여 특정한 효과를 준 것\n",
        "- Enter, tab\n",
        "\n",
        "- (\\n): Enter, 새로운 줄(다음줄)\n",
        "- (\\t): tap"
      ]
    },
    {
      "cell_type": "code",
      "metadata": {
        "colab": {
          "base_uri": "https://localhost:8080/"
        },
        "id": "gOrVNkAyGPhh",
        "outputId": "a3a76971-ccd4-4764-9b4a-1290c68b55f0"
      },
      "source": [
        "print(\"안녕하세요. \\n 제 이름은 \\t 추승호 입니다. \\n직업은 \\t학생 입니다.\")"
      ],
      "execution_count": 6,
      "outputs": [
        {
          "output_type": "stream",
          "text": [
            "안녕하세요. \n",
            " 제 이름은 \t 추승호 입니다. \n",
            "직업은 \t학생 입니다.\n"
          ],
          "name": "stdout"
        }
      ]
    },
    {
      "cell_type": "code",
      "metadata": {
        "id": "QXBctfxnGam5"
      },
      "source": [
        ""
      ],
      "execution_count": null,
      "outputs": []
    },
    {
      "cell_type": "markdown",
      "metadata": {
        "id": "UOLvPb1QHj1L"
      },
      "source": [
        "## **문자열의 인덱스(index) 및 추출**\n",
        "\n",
        "- 문자열의 각 문자는 순서가 있음 : `인덱스`\n",
        "- 인덱스 표현은? [ ]\n",
        "- 첫번째 문자부터 마지막까지 차례대로 순서를 가짐\n",
        "- 시작은 O! (1 X)"
      ]
    },
    {
      "cell_type": "markdown",
      "metadata": {
        "id": "5xuClazhJErB"
      },
      "source": [
        ""
      ]
    },
    {
      "cell_type": "code",
      "metadata": {
        "colab": {
          "base_uri": "https://localhost:8080/"
        },
        "id": "nFzZpu86Hu8y",
        "outputId": "79c714d0-3991-4d92-c089-2d4ee013cd91"
      },
      "source": [
        "#a = \"Hello World!\" # 번호는 11번까지, 길이는 12\n",
        "\n",
        "print(a[-1], a[-3], a[-12])"
      ],
      "execution_count": 8,
      "outputs": [
        {
          "output_type": "stream",
          "text": [
            "! l H\n"
          ],
          "name": "stdout"
        }
      ]
    },
    {
      "cell_type": "code",
      "metadata": {
        "id": "zWfsBqMtJNEz"
      },
      "source": [
        "\n"
      ],
      "execution_count": null,
      "outputs": []
    },
    {
      "cell_type": "markdown",
      "metadata": {
        "id": "YVkZxO4oLO2L"
      },
      "source": [
        "## **문자열 내장 함수**"
      ]
    },
    {
      "cell_type": "code",
      "metadata": {
        "colab": {
          "base_uri": "https://localhost:8080/"
        },
        "id": "COL9agCYLRlh",
        "outputId": "1e2c65aa-01d5-42b3-83da-151aef8f34e7"
      },
      "source": [
        "#a = \"Hello World!\"\\\n",
        "print(a.upper())\n",
        "print(a.lower)\n",
        "print(a.replace('H', 'J'))\n",
        "print(a.replace('ello', 'i'))\n",
        "print(len(a))\n",
        "print(a.count('l'))\n",
        "\n",
        "print(a.find('w'))\n",
        "print(a.index('W'))\n",
        "\n",
        "b= \"!\".join(a)\n",
        "print(b)"
      ],
      "execution_count": 16,
      "outputs": [
        {
          "output_type": "stream",
          "text": [
            "HELLO WORLD!\n",
            "<built-in method lower of str object at 0x7fbf69fb8eb0>\n",
            "Jello World!\n",
            "Hi World!\n",
            "12\n",
            "3\n",
            "-1\n",
            "6\n",
            "H!e!l!l!o! !W!o!r!l!d!!\n"
          ],
          "name": "stdout"
        }
      ]
    },
    {
      "cell_type": "code",
      "metadata": {
        "id": "_PbARNyYLVmC"
      },
      "source": [
        "\n",
        "\n"
      ],
      "execution_count": null,
      "outputs": []
    },
    {
      "cell_type": "markdown",
      "metadata": {
        "id": "SP9Aasi8S3Gz"
      },
      "source": [
        "##**format**\n",
        "- 문자열내의 특정한 값을 변수로부터 초기화하여 동적으로 문자열을 생성"
      ]
    },
    {
      "cell_type": "code",
      "metadata": {
        "colab": {
          "base_uri": "https://localhost:8080/",
          "height": 53
        },
        "id": "IyjTLcS_TBWa",
        "outputId": "1f9a92c0-6d6f-48f7-a1a8-d89a334dd443"
      },
      "source": [
        "temp = 23\n",
        "per = 70\n",
        "\n",
        "a='현재 기온은 {}도 이고, 비올 확률은 {}%입니다.'.format(temp,per)\n",
        "print(a)\n",
        "\n",
        "cla = 3\n",
        "\n",
        "#b= \n",
        "f'현재 프로그래밍 시간은 {cla}교시다.'"
      ],
      "execution_count": 21,
      "outputs": [
        {
          "output_type": "stream",
          "text": [
            "현재 기온은 23도 이고, 비올 확률은 70%입니다.\n"
          ],
          "name": "stdout"
        },
        {
          "output_type": "execute_result",
          "data": {
            "application/vnd.google.colaboratory.intrinsic+json": {
              "type": "string"
            },
            "text/plain": [
              "'현재 프로그래밍 시간은 3교시다.'"
            ]
          },
          "metadata": {},
          "execution_count": 21
        }
      ]
    },
    {
      "cell_type": "code",
      "metadata": {
        "id": "G7m-8S-6TcRp"
      },
      "source": [
        ""
      ],
      "execution_count": null,
      "outputs": []
    },
    {
      "cell_type": "markdown",
      "metadata": {
        "id": "A0fnUfnFVqNL"
      },
      "source": [
        "##**split**\n",
        "- 문자열을 특정한 문자로 구분하여 치환"
      ]
    },
    {
      "cell_type": "code",
      "metadata": {
        "colab": {
          "base_uri": "https://localhost:8080/"
        },
        "id": "2zZW6FjzVthJ",
        "outputId": "94c924b2-c2eb-4951-98bb-18da9527d9fc"
      },
      "source": [
        "a = 'what a wonderful day. nice weather!'\n",
        "a.split('w')"
      ],
      "execution_count": 22,
      "outputs": [
        {
          "output_type": "execute_result",
          "data": {
            "text/plain": [
              "['', 'hat a ', 'onderful day. nice ', 'eather!']"
            ]
          },
          "metadata": {},
          "execution_count": 22
        }
      ]
    },
    {
      "cell_type": "code",
      "metadata": {
        "id": "qEHua1jOVw2J"
      },
      "source": [
        ""
      ],
      "execution_count": null,
      "outputs": []
    }
  ]
}