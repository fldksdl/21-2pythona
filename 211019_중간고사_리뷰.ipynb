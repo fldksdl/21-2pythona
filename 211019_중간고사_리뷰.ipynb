{
  "nbformat": 4,
  "nbformat_minor": 0,
  "metadata": {
    "colab": {
      "name": "211019 중간고사 리뷰.ipynb",
      "provenance": [],
      "authorship_tag": "ABX9TyPLUZ9V1FNSQ83DQF+UIxo6",
      "include_colab_link": true
    },
    "kernelspec": {
      "name": "python3",
      "display_name": "Python 3"
    },
    "language_info": {
      "name": "python"
    }
  },
  "cells": [
    {
      "cell_type": "markdown",
      "metadata": {
        "id": "view-in-github",
        "colab_type": "text"
      },
      "source": [
        "<a href=\"https://colab.research.google.com/github/timeboox/21-2pythona/blob/main/211019_%EC%A4%91%EA%B0%84%EA%B3%A0%EC%82%AC_%EB%A6%AC%EB%B7%B0.ipynb\" target=\"_parent\"><img src=\"https://colab.research.google.com/assets/colab-badge.svg\" alt=\"Open In Colab\"/></a>"
      ]
    },
    {
      "cell_type": "code",
      "metadata": {
        "id": "bBN_r0-qyDAH"
      },
      "source": [
        "#1. 파이썬 변수로 사용할 수 없는 것은?\n",
        "_num = 1\n",
        "num = 2\n",
        "num1 = 3\n",
        "#num2 = 4\n",
        "#변수를 선언할 때 맨 앞앞에 숫자는 올 수 없다!\n",
        "n_um = 5"
      ],
      "execution_count": null,
      "outputs": []
    },
    {
      "cell_type": "code",
      "metadata": {
        "colab": {
          "base_uri": "https://localhost:8080/"
        },
        "id": "mugKhYqx2g3R",
        "outputId": "8cb4d998-4960-460b-fc78-fffa9c78b0bb"
      },
      "source": [
        "#2. 각 변수에 저장된 최종 값은?\n",
        "sum = 0\n",
        "n1 = 10\n",
        "n1 = n1 + 10\n",
        "n2 = 20\n",
        "sum = n1 + n2\n",
        "print(n1, n2, sum)"
      ],
      "execution_count": null,
      "outputs": [
        {
          "output_type": "stream",
          "name": "stdout",
          "text": [
            "20 20 40\n"
          ]
        }
      ]
    },
    {
      "cell_type": "code",
      "metadata": {
        "colab": {
          "base_uri": "https://localhost:8080/"
        },
        "id": "KKORB3UF3vV8",
        "outputId": "ceffd79b-a131-4498-eb46-e446177b627d"
      },
      "source": [
        "#3. 적절한 연산자 찾기\n",
        "print(17 // 4)\n",
        "print(17 / 4)\n",
        "print(17 % 4)"
      ],
      "execution_count": null,
      "outputs": [
        {
          "output_type": "stream",
          "name": "stdout",
          "text": [
            "4\n",
            "4.25\n",
            "1\n"
          ]
        }
      ]
    },
    {
      "cell_type": "code",
      "metadata": {
        "colab": {
          "base_uri": "https://localhost:8080/"
        },
        "id": "HhVMc9Hm4bsY",
        "outputId": "b1cc2eb6-87ab-4309-aec6-a56e8dfc5ec7"
      },
      "source": [
        "#4. 다음 파이썬 프로그램을 실행했을 때 결과는?\n",
        "age = 17\n",
        "st = \"나이\"\n",
        "tu = (17, \"나이\")\n",
        "print(type(age))\n",
        "print(type(st))\n",
        "print(type(tu))\n",
        "print(type(type(age)))\n"
      ],
      "execution_count": null,
      "outputs": [
        {
          "output_type": "stream",
          "name": "stdout",
          "text": [
            "<class 'int'>\n",
            "<class 'str'>\n",
            "<class 'tuple'>\n",
            "<class 'type'>\n"
          ]
        }
      ]
    },
    {
      "cell_type": "code",
      "metadata": {
        "colab": {
          "base_uri": "https://localhost:8080/"
        },
        "id": "tH6gJd12_vau",
        "outputId": "3fd41be0-365b-4e32-8be3-692ded0779a4"
      },
      "source": [
        "s = \"Hello Hanyang!\"\n",
        "print(s[5], s[-5])"
      ],
      "execution_count": null,
      "outputs": [
        {
          "output_type": "stream",
          "name": "stdout",
          "text": [
            "  y\n"
          ]
        }
      ]
    },
    {
      "cell_type": "code",
      "metadata": {
        "colab": {
          "base_uri": "https://localhost:8080/"
        },
        "id": "0KMHxPYj__iR",
        "outputId": "3be74563-764b-4cfe-8d52-2c45d8885e76"
      },
      "source": [
        "#13.셋\n",
        "a = set([1,1,1,1,1,1,1,1,1,1,1,2,3])\n",
        "print(a)\n",
        "b = set('hello')\n",
        "print(b)"
      ],
      "execution_count": null,
      "outputs": [
        {
          "output_type": "stream",
          "name": "stdout",
          "text": [
            "{1, 2, 3}\n",
            "{'o', 'e', 'l', 'h'}\n"
          ]
        }
      ]
    },
    {
      "cell_type": "code",
      "metadata": {
        "colab": {
          "base_uri": "https://localhost:8080/"
        },
        "id": "b7el0HrxFTtU",
        "outputId": "679e1615-43c2-460b-da0b-bc688271cfef"
      },
      "source": [
        "#14~15.\n",
        "\n",
        "room = [[0,0,1,0,9],\n",
        "        [1,0,1,0,1],\n",
        "        [0,1,1,1,9]]\n",
        "\n",
        "mouse = room[0][2]\n",
        "if mouse == 1:\n",
        "  print(\"cheese\")\n",
        "elif mouse == 9:\n",
        "  print(\"trap\")\n",
        "else:\n",
        "  print(\"nothing\")"
      ],
      "execution_count": null,
      "outputs": [
        {
          "output_type": "stream",
          "name": "stdout",
          "text": [
            "cheese\n"
          ]
        }
      ]
    },
    {
      "cell_type": "code",
      "metadata": {
        "colab": {
          "base_uri": "https://localhost:8080/"
        },
        "id": "WVul-b2EMnwF",
        "outputId": "4d3dc612-4fcc-4f08-b646-0530725eaa1f"
      },
      "source": [
        "#16~17.\n",
        "\n",
        "a = 0\n",
        "b = 0\n",
        "\n",
        "for i in range(3,9):\n",
        "  if i%2 == 0 and i%3 == 0:\n",
        "    continue\n",
        "  elif i%2 == 0:\n",
        "    a += 1\n",
        "  elif i%3 == 0:\n",
        "    b += 1\n",
        "  print(a,b)"
      ],
      "execution_count": null,
      "outputs": [
        {
          "output_type": "stream",
          "name": "stdout",
          "text": [
            "0 1\n",
            "1 1\n",
            "1 1\n",
            "1 1\n",
            "2 1\n"
          ]
        }
      ]
    },
    {
      "cell_type": "code",
      "metadata": {
        "colab": {
          "base_uri": "https://localhost:8080/"
        },
        "id": "6FkIP7ANOTJc",
        "outputId": "ae066dbb-e02c-468c-cf21-81fe51de978a"
      },
      "source": [
        "#18~20.\n",
        "print(\"-----------민재나라 현식공주-----------\")\n",
        "print(\"메뉴번호 \\n 1. 햄버거(300원) \\n 2. 피자(500원) \\n 3. 치킨(700원)\")\n",
        "print(\"---------------------------------------\")\n",
        "\n",
        "money = int(input(\"투입 금액: \"))\n",
        "menu = int(input(\"메뉴 번호: \"))\n",
        "\n",
        "if menu == 1:\n",
        "  money -= 300\n",
        "elif menu == 2:\n",
        "  money -= 500\n",
        "elif menu == 3:\n",
        "  money -= 700\n",
        "\n",
        "if money < 0:\n",
        "  print(\"잔액이 부족합니다.\")\n",
        "else:\n",
        "  won10000 = money // 10000\n",
        "  won5000 = (money%10000)//5000\n",
        "  won1000 = ((money%10000)%5000)//1000\n",
        "  won500 = (((money%10000)%5000)%1000)//500\n",
        "  won100 = ((((money%10000)%5000)%1000)%500)//100\n",
        "\n",
        "  print(\"거스름돈: 만원 {}개\".format(won10000))\n",
        "  print(\"거스름돈: 오천원 {}개\".format(won5000))\n",
        "  print(\"거스름돈: 천원 {}개\".format(won1000))\n",
        "  print(\"거스름돈: 오백원 {}개\".format(won500))\n",
        "  print(\"거스름돈: 백원 {}개\".format(won100))"
      ],
      "execution_count": 36,
      "outputs": [
        {
          "output_type": "stream",
          "name": "stdout",
          "text": [
            "-----------민재나라 현식공주-----------\n",
            "메뉴번호 \n",
            " 1. 햄버거(300원) \n",
            " 2. 피자(500원) \n",
            " 3. 치킨(700원)\n",
            "---------------------------------------\n",
            "투입 금액: 500\n",
            "메뉴 번호: 2\n",
            "거스름돈: 만원 0개\n",
            "거스름돈: 오천원 0개\n",
            "거스름돈: 천원 0개\n",
            "거스름돈: 오백원 0개\n",
            "거스름돈: 백원 0개\n",
            "거스름돈이 없습니다.\n"
          ]
        }
      ]
    },
    {
      "cell_type": "code",
      "metadata": {
        "id": "EtPJBr1qRHpZ"
      },
      "source": [
        ""
      ],
      "execution_count": null,
      "outputs": []
    }
  ]
}